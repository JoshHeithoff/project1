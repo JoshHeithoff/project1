{
 "cells": [
  {
   "cell_type": "markdown",
   "id": "2eb2409c-ff61-484b-a68a-4a5b18a4ed14",
   "metadata": {},
   "source": [
    "# Project Name"
   ]
  },
  {
   "cell_type": "markdown",
   "id": "eb54f4dc-7b92-4032-b3a3-a7c0443c537a",
   "metadata": {},
   "source": [
    "**Author:** Josh Heithoff\n",
    "**Last modified:** 11-17-2024 (created 11-17-2024)\n",
    "**Description:** Short paragrpah about the project"
   ]
  },
  {
   "cell_type": "markdown",
   "id": "057f21e4-ffc8-4901-a457-dac3fdf7f5fd",
   "metadata": {},
   "source": [
    "<br>"
   ]
  },
  {
   "cell_type": "markdown",
   "id": "4d42dc94-fdff-4f38-9913-c54df40976eb",
   "metadata": {},
   "source": [
    "import libaries:"
   ]
  },
  {
   "cell_type": "code",
   "execution_count": 1,
   "id": "43a1ed23-9ea5-48c9-abb7-63fd30a469aa",
   "metadata": {},
   "outputs": [],
   "source": [
    "import pandas as pd"
   ]
  },
  {
   "cell_type": "markdown",
   "id": "d247839c-95eb-41fb-9915-56f6e8bb6548",
   "metadata": {},
   "source": [
    "Load data:"
   ]
  },
  {
   "cell_type": "code",
   "execution_count": 2,
   "id": "26ad6227-081a-412d-b8c6-54941b02ae4a",
   "metadata": {},
   "outputs": [],
   "source": [
    "#Code to read csv file"
   ]
  }
 ],
 "metadata": {
  "kernelspec": {
   "display_name": "Python 3 (ipykernel)",
   "language": "python",
   "name": "python3"
  },
  "language_info": {
   "codemirror_mode": {
    "name": "ipython",
    "version": 3
   },
   "file_extension": ".py",
   "mimetype": "text/x-python",
   "name": "python",
   "nbconvert_exporter": "python",
   "pygments_lexer": "ipython3",
   "version": "3.12.7"
  }
 },
 "nbformat": 4,
 "nbformat_minor": 5
}
